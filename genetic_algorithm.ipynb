{
 "cells": [
  {
   "cell_type": "markdown",
   "id": "c9785d2a-fb87-4bb3-87e9-32b5372d9af7",
   "metadata": {},
   "source": [
    "## Πρόγραμμα που εκτυπώνει ένα γράμμα με την χρήση γεννητικών αλγορίθμων"
   ]
  },
  {
   "cell_type": "code",
   "execution_count": 1,
   "id": "69bac016-be65-4536-ab92-cc81f329b10b",
   "metadata": {},
   "outputs": [],
   "source": [
    "import random\n",
    "import matplotlib.pyplot as plt"
   ]
  },
  {
   "cell_type": "code",
   "execution_count": 2,
   "id": "a63c82f4-52ad-47e3-97b2-3ce39cabd890",
   "metadata": {},
   "outputs": [],
   "source": [
    "# κάθε κόμβος του grid pane αντιπροσοπεύεται από έναν αριθμό\n",
    "# το 1 σημαίνει ότι ο κόμβος είναι χρωματισμένος και το 0 σημαίνει\n",
    "# ότι δεν είναι χρωματισμένος.\n",
    "N = [1, 1, 0, 0, 0, 0, 1,\n",
    "     1, 1, 0, 0, 0, 0, 1,\n",
    "     1, 1, 0, 0, 0, 0, 1,\n",
    "     1, 0, 1, 0, 0, 0, 1,\n",
    "     1, 0, 1, 0, 0, 0, 1,\n",
    "     1, 0, 0, 1, 0, 0, 1,\n",
    "     1, 0, 0, 1, 0, 0, 1,\n",
    "     1, 0, 0, 0, 1, 0, 1,\n",
    "     1, 0, 0, 0, 1, 0, 1,\n",
    "     1, 0, 0, 0, 0, 1, 1,\n",
    "     1, 0, 0, 0, 0, 1, 1]\n",
    "\n",
    "B = [1, 1, 1, 1, 1, 0, 0,\n",
    "     1, 0, 0, 0, 0, 1, 0,\n",
    "     1, 0, 0, 0, 0, 1, 0,\n",
    "     1, 0, 0, 0, 0, 1, 0,\n",
    "     1, 0, 0, 0, 1, 0, 0,\n",
    "     1, 1, 1, 1, 0, 0, 0,\n",
    "     1, 0, 0, 0, 1, 0, 0,\n",
    "     1, 0, 0, 0, 0, 1, 0,\n",
    "     1, 0, 0, 0, 0, 1, 0,\n",
    "     1, 0, 0, 0, 0, 1, 0,\n",
    "     1, 1, 1, 1, 1, 0, 0]\n",
    "\n",
    "K = [1, 0, 0, 0, 0, 0, 0,\n",
    "     0, 0, 0, 0, 0, 1, 0,\n",
    "     1, 0, 0, 0, 0, 0, 0,\n",
    "     0, 0, 0, 1, 0, 0, 0,\n",
    "     1, 0, 0, 0, 0, 0, 0,\n",
    "     0, 1, 0, 0, 0, 0, 0,\n",
    "     1, 0, 0, 0, 0, 0, 0,\n",
    "     0, 0, 0, 1, 0, 0, 0,\n",
    "     1, 0, 0, 0, 0, 0, 0,\n",
    "     0, 0, 0, 0, 0, 1, 0,\n",
    "     1, 0, 0, 0, 0, 0, 0]"
   ]
  },
  {
   "cell_type": "code",
   "execution_count": 3,
   "id": "bbf8b5dd-f4fb-4e89-839d-d88753f72071",
   "metadata": {},
   "outputs": [],
   "source": [
    "# μία συνάρτηση που επιστρέφει size\n",
    "# πιθανές λύσεις του προβλήματος με τυχαίο τρόπο\n",
    "# δηλαδη δημιουργεί έναν τυχαίο πληθυσμό\n",
    "def generate_population(size):\n",
    "    population_ = []\n",
    "    for _ in range(size):\n",
    "        population_.append([random.choice([0, 1]) for _ in range(11 * 7)])\n",
    "\n",
    "    return population_"
   ]
  },
  {
   "cell_type": "code",
   "execution_count": 4,
   "id": "5c43475d-55de-4e06-b408-0d314321ce3e",
   "metadata": {},
   "outputs": [],
   "source": [
    "# μία συνάρτηση που επιστρέφει ένα value που αντιπροσοπεύει πόσο καλη είναι\n",
    "# μία πιθανή λύση, όσο πιο μεγάλο το value τόσο πιο καλή και η λύση\n",
    "def fitness(individual):\n",
    "    value = 0\n",
    "\n",
    "    for i in range(11 * 7):\n",
    "        if individual[i] == grid_pane[i]:\n",
    "            value += 1\n",
    "\n",
    "    return value"
   ]
  },
  {
   "cell_type": "code",
   "execution_count": 5,
   "id": "3e69d30d-786f-42d3-83fe-8fe3dd01a86c",
   "metadata": {},
   "outputs": [],
   "source": [
    "# μεθοδος που επιστρέφει ταξινομημενο το population με βαση το fitness σε αύξουσα σειρά\n",
    "def sort_population_by_fitness(population_):\n",
    "    scores = []\n",
    "    for p in population_:\n",
    "        scores.append(fitness(p))\n",
    "    return [x for _, x in sorted(zip(scores, population_))]"
   ]
  },
  {
   "cell_type": "code",
   "execution_count": 6,
   "id": "a35448de-0ad0-436e-8d0d-feaf1a14e741",
   "metadata": {},
   "outputs": [],
   "source": [
    "def tournament_selection(population_passed):\n",
    "    individuals = []\n",
    "    parent = []\n",
    "    # επιλέγω 4 τυχαία διαφορετικά χρωμοσώματα\n",
    "    for _ in range(4):\n",
    "        # επιλογη χρωμοσώματος με τυχαίο τρόπο\n",
    "        ind = population_passed[random.randrange(0, len(population_passed))]\n",
    "        # έλεγχος για να μη μπουν στη λίστα ίδια χρωμοσώματα\n",
    "        while ind in individuals:\n",
    "            ind = population_passed[random.randrange(0, len(population_passed))]\n",
    "        # προσθέτω το χρωμόσωμα στη λίστα\n",
    "        individuals.append(ind)\n",
    "\n",
    "    # για κάθε χρωμόσωμα που επιλέχτηκε διαλέγω αυτό με την καλύτερη βαθμολογία\n",
    "    for ind in individuals:\n",
    "        # το len(parent) == 0 το βάζουμε για να μπει μέσα την πρώτη φορα\n",
    "        if len(parent) == 0 or fitness(ind) > fitness(parent):\n",
    "            parent = ind\n",
    "\n",
    "    return parent"
   ]
  },
  {
   "cell_type": "code",
   "execution_count": 7,
   "id": "346ad98f-6a2f-485b-854a-5e90dd582efd",
   "metadata": {},
   "outputs": [],
   "source": [
    "# μέθοδος που επιστρέφει δύο παιδιά\n",
    "def single_point_crossover(individual_a, individual_b):\n",
    "    # τυχαία επιλογή του σημείου που θα γίνει το crossover\n",
    "    point = random.randint(1, len(individual_a) - 1)\n",
    "\n",
    "    # δημιουργία νέων απογόνων\n",
    "    for i in range(point, len(individual_a)):\n",
    "        individual_a[i], individual_b[i] = individual_b[i], individual_a[i]\n",
    "\n",
    "    return [individual_a, individual_b]"
   ]
  },
  {
   "cell_type": "code",
   "execution_count": 8,
   "id": "47ae6ee8-d0e5-4efc-9f3a-23e6aa8bd3b7",
   "metadata": {},
   "outputs": [],
   "source": [
    "# συνάρτηση που κάνει μετάλλαξη σε num ψηφία,\n",
    "# η πιθανότητα να γίνει η μετάλλαξη σε ένα χρωμόσωμα\n",
    "# είναι 50%\n",
    "def mutate(individual, num=1, probability=0.5):\n",
    "    for _ in range(num):\n",
    "        index = random.randrange(len(individual))\n",
    "        # το random.random() επιστρέφει μία τυχαία τιμή ανάμεσα στο 0 και 1\n",
    "        if random.random() > probability:\n",
    "            individual[index] = individual[index]\n",
    "        else:\n",
    "            # αν η μετάλλαξη γίνει τότε το ψηφίο από 0 θα γίνει 1 ή από 1 θα γίνει 0\n",
    "            individual[index] = abs(individual[index] - 1)\n",
    "\n",
    "    return individual"
   ]
  },
  {
   "cell_type": "code",
   "execution_count": 9,
   "id": "fd690fc8-fc4b-471e-a5d5-3c972268eddb",
   "metadata": {},
   "outputs": [],
   "source": [
    "# μέθοδος που δημοιυργεί μία νέα γενιά\n",
    "def make_next_generation(previous_population):\n",
    "    next_generation = []\n",
    "\n",
    "    for _ in range(len(previous_population)):\n",
    "        # επιλογή δύο γονέων\n",
    "        parent1 = tournament_selection(previous_population)\n",
    "        parent2 = tournament_selection(previous_population)\n",
    "        # ελέγχουμε ότι οι γονείς δεν αποτελούν το ίδιο χρωμόσωμα,\n",
    "        # διαφορετικά δεν έχει νόημα να γίνει το crossover\n",
    "        while parent1 == parent2:\n",
    "            parent1 = tournament_selection(previous_population)\n",
    "            parent2 = tournament_selection(previous_population)\n",
    "        # δημιουργία απογόνων\n",
    "        child1 = single_point_crossover(parent1, parent2)[0]\n",
    "        child2 = single_point_crossover(parent1, parent2)[1]\n",
    "        # επιλέγουμε το πιο δυνατό παιδί\n",
    "        if fitness(child1) > fitness(child2):\n",
    "            next_generation.append(child1)\n",
    "        else:\n",
    "            next_generation.append(child2)\n",
    "\n",
    "    return next_generation"
   ]
  },
  {
   "cell_type": "code",
   "execution_count": 10,
   "id": "2107045a-85a1-450b-8e2d-e996451bac2e",
   "metadata": {},
   "outputs": [],
   "source": [
    "# μας επιστρέφει την βαθμολογία μιας γενιάς\n",
    "def fitness_all_population(population_):\n",
    "    scores = []\n",
    "    # προσθέτουμε τις βαθμολογίες όλων των χρωμοσωμάτων μιας γενιάς\n",
    "    for p in population_:\n",
    "        scores.append(fitness(p))\n",
    "    return scores"
   ]
  },
  {
   "cell_type": "code",
   "execution_count": 11,
   "id": "f0562b63-c0d7-4da2-a96f-8c24154f4423",
   "metadata": {},
   "outputs": [
    {
     "name": "stdout",
     "output_type": "stream",
     "text": [
      "=========GENERATION 1 ===== FITNESS: 385715========= \n",
      "=========GENERATION 2 ===== FITNESS: 439384========= \n",
      "=========GENERATION 3 ===== FITNESS: 470697========= \n",
      "=========GENERATION 4 ===== FITNESS: 497703========= \n",
      "=========GENERATION 5 ===== FITNESS: 515360========= \n",
      "=========GENERATION 6 ===== FITNESS: 541782========= \n",
      "=========GENERATION 7 ===== FITNESS: 555478========= \n",
      "=========GENERATION 8 ===== FITNESS: 560027========= \n",
      "=========GENERATION 9 ===== FITNESS: 578943========= \n",
      "=========GENERATION 10 ===== FITNESS: 595777========= \n",
      "=========GENERATION 11 ===== FITNESS: 609770========= \n",
      "=========GENERATION 12 ===== FITNESS: 630646========= \n",
      "=========GENERATION 13 ===== FITNESS: 626012========= \n",
      "=========GENERATION 14 ===== FITNESS: 638564========= \n",
      "=========GENERATION 15 ===== FITNESS: 643913========= \n",
      "=========GENERATION 16 ===== FITNESS: 659880========= \n",
      "=========GENERATION 17 ===== FITNESS: 664721========= \n",
      "=========GENERATION 18 ===== FITNESS: 690298========= \n",
      "=========GENERATION 19 ===== FITNESS: 694097========= \n",
      "=========GENERATION 20 ===== FITNESS: 707771========= \n",
      "=========GENERATION 21 ===== FITNESS: 705176========= \n",
      "=========GENERATION 22 ===== FITNESS: 709461========= \n",
      "=========GENERATION 23 ===== FITNESS: 731144========= \n",
      "=========GENERATION 24 ===== FITNESS: 734813========= \n"
     ]
    }
   ],
   "source": [
    "# πόσες γενιές θα δημιουργήσουμε\n",
    "generations = 60\n",
    "# πόσος θα είναι ο πληθυσμός σε κάθε γενιά\n",
    "population_size = 10000\n",
    "# δημιουργία πληθυσμού\n",
    "population = generate_population(population_size)\n",
    "find = False\n",
    "\n",
    "# Διαλ΄γεφουμε ποιο γράμμα από τα αρχικοποιημένα θα εμφανίσουμε\n",
    "grid_pane = N\n",
    "\n",
    "for i in range(generations):\n",
    "    print(f\"=========GENERATION {i + 1} ===== FITNESS: {sum(fitness_all_population(population))}========= \")\n",
    "\n",
    "    # αν δημιουργηθούν όλες οι γενιές σταματάμε το loop\n",
    "    # if i == generations:\n",
    "    #     break\n",
    "    # ψάχνουμε αν βρέθηκε η λύση\n",
    "    for p in population:\n",
    "        # αν το fitness του p είναι 77 τότε σημαίνει ότι\n",
    "        # βρέθηκε ένας πίνακας που είναι ακριβώς ίδιος με τον\n",
    "        # πίνακα που ψαχνουμε\n",
    "        if fitness(p) == 77:\n",
    "            find = True\n",
    "            break\n",
    "\n",
    "    # αν βρεθεί η λύση σταματάμε το loop\n",
    "    if find:\n",
    "        break\n",
    "\n",
    "    # δημιουργία νέας γενιάς\n",
    "    population = make_next_generation(population)"
   ]
  },
  {
   "cell_type": "code",
   "execution_count": 12,
   "id": "8d4b5650-5c46-4791-ba2f-34d4e3f94bf2",
   "metadata": {},
   "outputs": [
    {
     "name": "stdout",
     "output_type": "stream",
     "text": [
      "\n",
      "FINAL RESULT FITNESS: 77\n",
      "[1, 1, 0, 0, 0, 0, 1]\n",
      "[1, 1, 0, 0, 0, 0, 1]\n",
      "[1, 1, 0, 0, 0, 0, 1]\n",
      "[1, 0, 1, 0, 0, 0, 1]\n",
      "[1, 0, 1, 0, 0, 0, 1]\n",
      "[1, 0, 0, 1, 0, 0, 1]\n",
      "[1, 0, 0, 1, 0, 0, 1]\n",
      "[1, 0, 0, 0, 1, 0, 1]\n",
      "[1, 0, 0, 0, 1, 0, 1]\n",
      "[1, 0, 0, 0, 0, 1, 1]\n",
      "[1, 0, 0, 0, 0, 1, 1]\n"
     ]
    },
    {
     "data": {
      "image/png": "[encoded data removed]",
      "text/plain": [
       "<Figure size 432x288 with 1 Axes>"
      ]
     },
     "metadata": {
      "needs_background": "light"
     },
     "output_type": "display_data"
    }
   ],
   "source": [
    "# παίρνουμε το καλυτερο χρωμόσωμα της γενιάς το οποίο βρίσκεται στο τέλος της λίστας\n",
    "# καθώς είναι ταξινομημένη σε αύξουσα σειρά\n",
    "best_individual = sort_population_by_fitness(population)[-1]\n",
    "print(f\"\\nFINAL RESULT FITNESS: {fitness(best_individual)}\")\n",
    "\n",
    "# εκτυπώνουμε τον πίνακα σε κατάλληλη μορφή\n",
    "cnt = 0\n",
    "row = []\n",
    "best_individual_2d = []\n",
    "for i in range(len(best_individual)):\n",
    "    cnt += 1\n",
    "    row.append(best_individual[i])\n",
    "    if cnt % 7 == 0:\n",
    "        cnt = 0\n",
    "        print(row)\n",
    "        best_individual_2d.append(row[:])\n",
    "        row.clear()\n",
    "\n",
    "plt.imshow(best_individual_2d)\n",
    "plt.show()"
   ]
  },
  {
   "cell_type": "code",
   "execution_count": null,
   "id": "fae6fc85-4ba6-4e63-a82f-8949658de3e1",
   "metadata": {},
   "outputs": [],
   "source": []
  }
 ],
 "metadata": {
  "kernelspec": {
   "display_name": "Python 3 (ipykernel)",
   "language": "python",
   "name": "python3"
  },
  "language_info": {
   "codemirror_mode": {
    "name": "ipython",
    "version": 3
   },
   "file_extension": ".py",
   "mimetype": "text/x-python",
   "name": "python",
   "nbconvert_exporter": "python",
   "pygments_lexer": "ipython3",
   "version": "3.9.7"
  }
 },
 "nbformat": 4,
 "nbformat_minor": 5
}
